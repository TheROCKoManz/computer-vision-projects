{
 "cells": [
  {
   "cell_type": "code",
   "execution_count": 1,
   "id": "initial_id",
   "metadata": {
    "collapsed": true,
    "ExecuteTime": {
     "end_time": "2023-08-06T04:35:20.150255071Z",
     "start_time": "2023-08-06T04:35:20.149995001Z"
    }
   },
   "outputs": [],
   "source": [
    "import os, subprocess\n",
    "\n",
    "HOME = os.getcwd()"
   ]
  },
  {
   "cell_type": "code",
   "execution_count": 2,
   "outputs": [
    {
     "data": {
      "text/plain": "'/home/manz/Desktop/My Stuffs/Work Stuffs/Python Envs/HyperSpace/ComputerVision/CrowdAnalysis'"
     },
     "execution_count": 2,
     "metadata": {},
     "output_type": "execute_result"
    }
   ],
   "source": [
    "# os.chdir('WalkInWalkOutCounter')\n",
    "os.getcwd()\n",
    "# os.listdir()\n",
    "\n"
   ],
   "metadata": {
    "collapsed": false,
    "ExecuteTime": {
     "end_time": "2023-08-06T04:35:20.655456226Z",
     "start_time": "2023-08-06T04:35:20.653301673Z"
    }
   },
   "id": "93f70b9ab3a4a68a"
  },
  {
   "cell_type": "code",
   "execution_count": 13,
   "outputs": [
    {
     "name": "stdout",
     "output_type": "stream",
     "text": [
      "Cloning into 'ByteTrack'...\r\n",
      "remote: Enumerating objects: 2007, done.\u001B[K\r\n",
      "remote: Total 2007 (delta 0), reused 0 (delta 0), pack-reused 2007\u001B[Kg objects:  19% (398/2007), 1.46 MiB | 204.00 KiB/sReceiving objects:  19% (398/2007), 1.87 MiB | 224.00 KiB/sReceiving objects:  19% (398/2007), 2.18 MiB | 204.00 KiB/sReceiving objects:  19% (398/2007), 2.75 MiB | 221.00 KiB/sReceiving objects:  19% (399/2007), 3.10 MiB | 223.00 KiB/sReceiving objects:  19% (399/2007), 3.72 MiB | 241.00 KiB/sReceiving objects:  19% (399/2007), 4.20 MiB | 236.00 KiB/sReceiving objects:  19% (399/2007), 4.62 MiB | 246.00 KiB/sReceiving objects:  19% (399/2007), 5.23 MiB | 261.00 KiB/sReceiving objects:  19% (399/2007), 5.70 MiB | 266.00 KiB/sReceiving objects:  19% (399/2007), 6.55 MiB | 306.00 KiB/sReceiving objects:  19% (399/2007), 6.93 MiB | 302.00 KiB/sReceiving objects:  19% (399/2007), 7.55 MiB | 285.00 KiB/sReceiving objects:  19% (399/2007), 8.26 MiB | 326.00 KiB/sReceiving objects:  19% (399/2007), 8.68 MiB | 285.00 KiB/sReceiving objects:  19% (399/2007), 8.92 MiB | 165.00 KiB/sReceiving objects:  19% (399/2007), 9.18 MiB | 116.00 KiB/sReceiving objects:  19% (399/2007), 9.44 MiB | 138.00 KiB/sReceiving objects:  19% (399/2007), 9.82 MiB | 162.00 KiB/sReceiving objects:  19% (399/2007), 10.07 MiB | 169.00 KiB/sReceiving objects:  19% (399/2007), 10.30 MiB | 137.00 KiB/sReceiving objects:  19% (399/2007), 10.52 MiB | 111.00 KiB/sReceiving objects:  19% (399/2007), 10.87 MiB | 138.00 KiB/sReceiving objects:  19% (399/2007), 11.14 MiB | 150.00 KiB/sReceiving objects:  19% (399/2007), 11.34 MiB | 154.00 KiB/sReceiving objects:  19% (399/2007), 11.61 MiB | 116.00 KiB/sReceiving objects:  19% (399/2007), 11.93 MiB | 142.00 KiB/sReceiving objects:  19% (400/2007), 12.14 MiB | 120.00 KiB/sReceiving objects:  19% (400/2007), 12.29 MiB | 117.00 KiB/sReceiving objects:  19% (400/2007), 12.61 MiB | 105.00 KiB/sReceiving objects:  19% (400/2007), 12.84 MiB | 138.00 KiB/sReceiving objects:  19% (400/2007), 13.09 MiB | 142.00 KiB/sReceiving objects:  19% (400/2007), 13.20 MiB | 100.00 KiB/sReceiving objects:  19% (400/2007), 13.36 MiB | 76.00 KiB/sReceiving objects:  19% (400/2007), 13.64 MiB | 96.00 KiB/sReceiving objects:  19% (400/2007), 14.07 MiB | 170.00 KiB/sReceiving objects:  19% (400/2007), 14.34 MiB | 181.00 KiB/sReceiving objects:  19% (400/2007), 14.61 MiB | 149.00 KiB/sReceiving objects:  19% (400/2007), 14.82 MiB | 145.00 KiB/sReceiving objects:  19% (400/2007), 15.26 MiB | 160.00 KiB/sReceiving objects:  19% (400/2007), 15.50 MiB | 155.00 KiB/sReceiving objects:  19% (400/2007), 15.64 MiB | 106.00 KiB/sReceiving objects:  19% (400/2007), 15.81 MiB | 85.00 KiB/sReceiving objects:  19% (400/2007), 16.00 MiB | 91.00 KiB/sReceiving objects:  19% (400/2007), 16.39 MiB | 133.00 KiB/sReceiving objects:  19% (400/2007), 16.94 MiB | 219.00 KiB/sReceiving objects:  19% (400/2007), 17.47 MiB | 249.00 KiB/sReceiving objects:  19% (400/2007), 17.94 MiB | 256.00 KiB/sReceiving objects:  19% (400/2007), 18.32 MiB | 218.00 KiB/sReceiving objects:  19% (400/2007), 18.71 MiB | 217.00 KiB/sReceiving objects:  19% (400/2007), 18.79 MiB | 153.00 KiB/sReceiving objects:  19% (400/2007), 18.98 MiB | 94.00 KiB/s Receiving objects:  19% (400/2007), 19.21 MiB | 90.00 KiB/sReceiving objects:  19% (400/2007), 19.44 MiB | 115.00 KiB/sReceiving objects:  19% (400/2007), 19.89 MiB | 162.00 KiB/sReceiving objects:  19% (400/2007), 20.14 MiB | 183.00 KiB/sReceiving objects:  19% (400/2007), 20.57 MiB | 184.00 KiB/sReceiving objects:  19% (400/2007), 20.73 MiB | 157.00 KiB/sReceiving objects:  19% (400/2007), 21.03 MiB | 117.00 KiB/sReceiving objects:  19% (400/2007), 21.31 MiB | 136.00 KiB/sReceiving objects:  19% (400/2007), 21.67 MiB | 161.00 KiB/sReceiving objects:  19% (400/2007), 21.98 MiB | 179.00 KiB/sReceiving objects:  19% (400/2007), 22.25 MiB | 150.00 KiB/sReceiving objects:  19% (400/2007), 22.50 MiB | 123.00 KiB/sReceiving objects:  19% (400/2007), 22.75 MiB | 119.00 KiB/sReceiving objects:  19% (400/2007), 22.98 MiB | 119.00 KiB/sReceiving objects:  19% (400/2007), 23.17 MiB | 105.00 KiB/sReceiving objects:  19% (400/2007), 23.39 MiB | 109.00 KiB/sReceiving objects:  19% (400/2007), 23.57 MiB | 109.00 KiB/sReceiving objects:  19% (400/2007), 23.79 MiB | 104.00 KiB/sReceiving objects:  19% (401/2007), 24.01 MiB | 123.00 KiB/sReceiving objects:  19% (401/2007), 24.61 MiB | 207.00 KiB/sReceiving objects:  19% (401/2007), 24.96 MiB | 201.00 KiB/sReceiving objects:  19% (401/2007), 25.27 MiB | 159.00 KiB/sReceiving objects:  19% (401/2007), 25.47 MiB | 142.00 KiB/sReceiving objects:  19% (401/2007), 25.94 MiB | 149.00 KiB/sReceiving objects:  19% (401/2007), 26.11 MiB | 148.00 KiB/sReceiving objects:  19% (401/2007), 26.25 MiB | 112.00 KiB/sReceiving objects:  19% (401/2007), 26.46 MiB | 100.00 KiB/sReceiving objects:  19% (401/2007), 26.75 MiB | 119.00 KiB/sReceiving objects:  19% (401/2007), 27.01 MiB | 135.00 KiB/sReceiving objects:  19% (401/2007), 27.22 MiB | 120.00 KiB/sReceiving objects:  19% (401/2007), 27.54 MiB | 125.00 KiB/sReceiving objects:  19% (401/2007), 28.00 MiB | 179.00 KiB/sReceiving objects:  19% (401/2007), 28.23 MiB | 176.00 KiB/sReceiving objects:  19% (401/2007), 28.61 MiB | 191.00 KiB/sReceiving objects:  19% (401/2007), 29.01 MiB | 178.00 KiB/sReceiving objects:  19% (401/2007), 29.41 MiB | 211.00 KiB/sReceiving objects:  19% (401/2007), 29.68 MiB | 180.00 KiB/sReceiving objects:  19% (401/2007), 30.07 MiB | 174.00 KiB/sReceiving objects:  19% (401/2007), 30.46 MiB | 187.00 KiB/sReceiving objects:  19% (401/2007), 30.77 MiB | 192.00 KiB/sReceiving objects:  19% (401/2007), 31.41 MiB | 253.00 KiB/sReceiving objects:  19% (401/2007), 31.99 MiB | 276.00 KiB/sReceiving objects:  19% (401/2007), 32.24 MiB | 231.00 KiB/sReceiving objects:  19% (401/2007), 32.52 MiB | 173.00 KiB/sReceiving objects:  19% (401/2007), 32.81 MiB | 150.00 KiB/sReceiving objects:  19% (401/2007), 33.09 MiB | 155.00 KiB/sReceiving objects:  19% (401/2007), 33.64 MiB | 196.00 KiB/sReceiving objects:  19% (401/2007), 33.92 MiB | 184.00 KiB/sReceiving objects:  19% (401/2007), 34.14 MiB | 167.00 KiB/sReceiving objects:  19% (401/2007), 34.33 MiB | 116.00 KiB/sReceiving objects:  19% (401/2007), 34.53 MiB | 99.00 KiB/s Receiving objects:  19% (401/2007), 34.59 MiB | 69.00 KiB/sReceiving objects:  19% (401/2007), 34.67 MiB | 50.00 KiB/sReceiving objects:  19% (401/2007), 34.77 MiB | 44.00 KiB/sReceiving objects:  19% (401/2007), 34.86 MiB | 51.00 KiB/sReceiving objects:  19% (401/2007), 35.06 MiB | 66.00 KiB/sReceiving objects:  19% (401/2007), 35.18 MiB | 27.00 KiB/sReceiving objects:  19% (401/2007), 35.29 MiB | 30.00 KiB/sReceiving objects:  19% (401/2007), 35.57 MiB | 39.00 KiB/sReceiving objects:  19% (401/2007), 35.86 MiB | 130.00 KiB/sReceiving objects:  19% (401/2007), 36.12 MiB | 144.00 KiB/sReceiving objects:  19% (401/2007), 36.48 MiB | 155.00 KiB/sReceiving objects:  19% (401/2007), 36.75 MiB | 163.00 KiB/sReceiving objects:  19% (401/2007), 37.32 MiB | 213.00 KiB/sReceiving objects:  19% (401/2007), 37.53 MiB | 203.00 KiB/sReceiving objects:  19% (401/2007), 37.82 MiB | 148.00 KiB/sReceiving objects:  19% (401/2007), 37.99 MiB | 94.00 KiB/s Receiving objects:  19% (401/2007), 38.18 MiB | 103.00 KiB/sReceiving objects:  19% (401/2007), 38.33 MiB | 79.00 KiB/s Receiving objects:  19% (401/2007), 38.51 MiB | 100.00 KiB/sReceiving objects:  19% (401/2007), 38.75 MiB | 93.00 KiB/sReceiving objects:  19% (401/2007), 39.23 MiB | 164.00 KiB/sReceiving objects:  19% (401/2007), 39.56 MiB | 200.00 KiB/sReceiving objects:  19% (401/2007), 40.06 MiB | 236.00 KiB/sReceiving objects:  19% (401/2007), 40.58 MiB | 241.00 KiB/sReceiving objects:  19% (401/2007), 41.14 MiB | 256.00 KiB/sReceiving objects:  19% (401/2007), 41.71 MiB | 269.00 KiB/sReceiving objects:  19% (401/2007), 42.05 MiB | 255.00 KiB/sReceiving objects:  19% (401/2007), 42.68 MiB | 264.00 KiB/sReceiving objects:  20% (402/2007), 42.86 MiB | 241.00 KiB/sReceiving objects:  20% (402/2007), 43.33 MiB | 264.00 KiB/sReceiving objects:  20% (402/2007), 43.76 MiB | 226.00 KiB/sReceiving objects:  20% (402/2007), 44.35 MiB | 265.00 KiB/sReceiving objects:  20% (402/2007), 44.96 MiB | 282.00 KiB/sReceiving objects:  20% (402/2007), 45.34 MiB | 251.00 KiB/sReceiving objects:  20% (402/2007), 45.79 MiB | 232.00 KiB/sReceiving objects:  20% (402/2007), 46.61 MiB | 319.00 KiB/sReceiving objects:  20% (402/2007), 47.05 MiB | 307.00 KiB/sReceiving objects:  20% (402/2007), 47.56 MiB | 239.00 KiB/sReceiving objects:  20% (402/2007), 47.87 MiB | 196.00 KiB/sReceiving objects:  20% (402/2007), 48.50 MiB | 228.00 KiB/sReceiving objects:  20% (402/2007), 49.18 MiB | 323.00 KiB/sReceiving objects:  20% (402/2007), 49.96 MiB | 386.00 KiB/sReceiving objects:  20% (402/2007), 50.62 MiB | 392.00 KiB/sReceiving objects:  20% (402/2007), 51.22 MiB | 303.00 KiB/sReceiving objects:  20% (403/2007), 51.66 MiB | 304.00 KiB/sReceiving objects:  20% (404/2007), 52.84 MiB | 382.00 KiB/sReceiving objects:  20% (404/2007), 53.64 MiB | 435.00 KiB/sReceiving objects:  20% (404/2007), 54.29 MiB | 395.00 KiB/sReceiving objects:  20% (404/2007), 55.00 MiB | 387.00 KiB/sReceiving objects:  20% (416/2007), 55.63 MiB | 329.00 KiB/sReceiving objects:  20% (416/2007), 56.11 MiB | 271.00 KiB/sReceiving objects:  20% (416/2007), 56.37 MiB | 205.00 KiB/sReceiving objects:  21% (422/2007), 56.60 MiB | 207.00 KiB/sReceiving objects:  27% (542/2007), 56.75 MiB | 213.00 KiB/sReceiving objects:  29% (583/2007), 56.75 MiB | 213.00 KiB/sReceiving objects:  30% (619/2007), 56.75 MiB | 213.00 KiB/sReceiving objects:  32% (643/2007), 56.75 MiB | 213.00 KiB/sReceiving objects:  34% (683/2007), 56.86 MiB | 203.00 KiB/sReceiving objects:  36% (723/2007), 56.86 MiB | 203.00 KiB/sReceiving objects:  36% (731/2007), 57.30 MiB | 217.00 KiB/sReceiving objects:  36% (731/2007), 58.04 MiB | 278.00 KiB/sReceiving objects:  36% (731/2007), 58.64 MiB | 312.00 KiB/sReceiving objects:  36% (731/2007), 59.16 MiB | 296.00 KiB/sReceiving objects:  36% (731/2007), 59.89 MiB | 307.00 KiB/sReceiving objects:  36% (731/2007), 60.86 MiB | 430.00 KiB/sReceiving objects:  36% (732/2007), 62.07 MiB | 602.00 KiB/sReceiving objects:  39% (783/2007), 62.56 MiB | 672.00 KiB/sReceiving objects:  46% (930/2007), 62.89 MiB | 715.00 KiB/sReceiving objects:  50% (1004/2007), 62.89 MiB | 715.00 KiB/sReceiving objects:  52% (1044/2007), 63.10 MiB | 714.00 KiB/sReceiving objects:  56% (1124/2007), 63.10 MiB | 714.00 KiB/sReceiving objects:  58% (1173/2007), 63.65 MiB | 686.00 KiB/sReceiving objects:  58% (1173/2007), 64.36 MiB | 507.00 KiB/sReceiving objects:  58% (1173/2007), 64.86 MiB | 317.00 KiB/sReceiving objects:  58% (1173/2007), 65.46 MiB | 288.00 KiB/sReceiving objects:  58% (1173/2007), 66.23 MiB | 332.00 KiB/sReceiving objects:  58% (1173/2007), 66.77 MiB | 313.00 KiB/sReceiving objects:  58% (1173/2007), 67.38 MiB | 286.00 KiB/sReceiving objects:  58% (1173/2007), 67.76 MiB | 250.00 KiB/sReceiving objects:  58% (1173/2007), 68.42 MiB | 274.00 KiB/sReceiving objects:  58% (1173/2007), 68.86 MiB | 274.00 KiB/sReceiving objects:  58% (1173/2007), 69.39 MiB | 252.00 KiB/sReceiving objects:  58% (1173/2007), 69.78 MiB | 217.00 KiB/sReceiving objects:  58% (1173/2007), 70.13 MiB | 205.00 KiB/sReceiving objects:  58% (1173/2007), 70.64 MiB | 208.00 KiB/sReceiving objects:  58% (1173/2007), 71.00 MiB | 219.00 KiB/sReceiving objects:  58% (1173/2007), 71.30 MiB | 195.00 KiB/sReceiving objects:  58% (1173/2007), 71.63 MiB | 181.00 KiB/sReceiving objects:  58% (1173/2007), 72.03 MiB | 183.00 KiB/sReceiving objects:  58% (1173/2007), 72.43 MiB | 187.00 KiB/sReceiving objects:  58% (1173/2007), 72.62 MiB | 169.00 KiB/sReceiving objects:  58% (1173/2007), 73.45 MiB | 263.00 KiB/sReceiving objects:  58% (1173/2007), 74.80 MiB | 500.00 KiB/sReceiving objects:  58% (1173/2007), 75.54 MiB | 507.00 KiB/sReceiving objects:  58% (1173/2007), 76.40 MiB | 419.00 KiB/sReceiving objects:  58% (1173/2007), 76.97 MiB | 372.00 KiB/sReceiving objects:  58% (1173/2007), 77.40 MiB | 266.00 KiB/sReceiving objects:  58% (1173/2007), 77.82 MiB | 231.00 KiB/sReceiving objects:  58% (1173/2007), 78.62 MiB | 310.00 KiB/sReceiving objects:  59% (1185/2007), 79.00 MiB | 344.00 KiB/sReceiving objects:  64% (1287/2007), 79.36 MiB | 361.00 KiB/sReceiving objects:  71% (1433/2007), 79.49 MiB | 359.00 KiB/sReceiving objects:  95% (1907/2007), 79.49 MiB | 359.00 KiB/s\r\n",
      "Receiving objects: 100% (2007/2007), 79.60 MiB | 204.00 KiB/s, done.\r\n",
      "Resolving deltas: 100% (1141/1141), done.\r\n"
     ]
    }
   ],
   "source": [
    "!git clone https://github.com/ifzhang/ByteTrack.git\n",
    "    \n"
   ],
   "metadata": {
    "collapsed": false,
    "ExecuteTime": {
     "end_time": "2023-08-05T18:02:43.904531684Z",
     "start_time": "2023-08-05T17:56:04.177422059Z"
    }
   },
   "id": "405833fc1a23a8f8"
  }
 ],
 "metadata": {
  "kernelspec": {
   "display_name": "Python 3",
   "language": "python",
   "name": "python3"
  },
  "language_info": {
   "codemirror_mode": {
    "name": "ipython",
    "version": 2
   },
   "file_extension": ".py",
   "mimetype": "text/x-python",
   "name": "python",
   "nbconvert_exporter": "python",
   "pygments_lexer": "ipython2",
   "version": "2.7.6"
  }
 },
 "nbformat": 4,
 "nbformat_minor": 5
}
