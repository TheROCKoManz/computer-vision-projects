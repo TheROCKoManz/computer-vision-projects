{
 "cells": [
  {
   "cell_type": "code",
   "execution_count": null,
   "metadata": {
    "collapsed": true
   },
   "outputs": [],
   "source": [
    "###yolov5 install\n",
    "import os\n",
    "HOME = os.getcwd()\n",
    "%cd {HOME}\n",
    "!git clone https://github.com/ultralytics/yolov5\n",
    "%cd {HOME}/yolov5\n",
    "!pip install -r requirements.txt\n",
    "from IPython import display\n",
    "display.clear_output()"
   ]
  },
  {
   "cell_type": "code",
   "execution_count": null,
   "outputs": [],
   "source": [
    "##YOLOv8 install\n",
    "!pip install ultralytics\n",
    "from IPython import display\n",
    "display.clear_output()\n",
    "import ultralytics\n",
    "ultralytics.checks()"
   ],
   "metadata": {
    "collapsed": false
   }
  },
  {
   "cell_type": "code",
   "execution_count": null,
   "outputs": [],
   "source": [
    "from ultralytics import YOLO\n",
    "import numpy as np\n",
    "model = YOLO('yolov8s.pt')"
   ],
   "metadata": {
    "collapsed": false
   }
  },
  {
   "cell_type": "code",
   "execution_count": null,
   "outputs": [],
   "source": [
    "## Video_Info\n",
    "import supervision as sv\n",
    "vid = 'PATH OF VIDEO'\n",
    "sv.VideoInfo.from_video_path(vid)"
   ],
   "metadata": {
    "collapsed": false
   }
  },
  {
   "cell_type": "code",
   "execution_count": null,
   "outputs": [],
   "source": [
    "import numpy as np\n",
    "# initiate polygon zone\n",
    "## Use this website to mark pixels ---> https://pixspy.com\n",
    "\n",
    "polygon = np.array([\n",
    "  [368,367],\n",
    "  [395,349],\n",
    "  [539,334],\n",
    "  [571,357],\n",
    "  [848,477],\n",
    "  [544,475],\n",
    "  [369,382]\n",
    "])\n",
    "\n",
    "video_info = sv.VideoInfo.from_video_path(vid)\n",
    "zone = sv.PolygonZone(polygon=polygon, frame_resolution_wh=video_info.resolution_wh)\n",
    "\n",
    "# initiate annotators\n",
    "box_annotator = sv.BoxAnnotator(thickness=1, text_thickness=1, text_scale=0.3, text_padding=2)\n",
    "zone_annotator = sv.PolygonZoneAnnotator(zone=zone, color=sv.Color.blue(), thickness=3, text_thickness=2,\n",
    "                                         text_scale=1, text_padding=2, text_color=sv.Color.white())\n",
    "\n",
    "def process_frame(frame: np.ndarray, _) -> np.ndarray:\n",
    "    # detect\n",
    "    results = model(frame, imgsz=1280)[0]\n",
    "    detections = sv.Detections.from_yolov8(results)\n",
    "    detections = detections[detections.class_id == 0]\n",
    "    zone.trigger(detections=detections)\n",
    "\n",
    "    # annotate\n",
    "    box_annotator = sv.BoxAnnotator(thickness=1, text_thickness=1, text_scale=0.3, text_padding=2)\n",
    "    labels = [f\"{model.names[class_id]} {confidence:0.2f}\" for _, confidence, class_id, _ in detections]\n",
    "    frame = box_annotator.annotate(scene=frame, detections=detections, labels=labels)\n",
    "    frame = zone_annotator.annotate(scene=frame)\n",
    "\n",
    "    return frame\n",
    "\n",
    "sv.process_video(source_path=vid, target_path=f\"{HOME}/Ireland.mp4\", callback=process_frame)\n",
    "\n",
    "from IPython import display\n",
    "display.clear_output()"
   ],
   "metadata": {
    "collapsed": false
   }
  }
 ],
 "metadata": {
  "kernelspec": {
   "display_name": "Python 3",
   "language": "python",
   "name": "python3"
  },
  "language_info": {
   "codemirror_mode": {
    "name": "ipython",
    "version": 2
   },
   "file_extension": ".py",
   "mimetype": "text/x-python",
   "name": "python",
   "nbconvert_exporter": "python",
   "pygments_lexer": "ipython2",
   "version": "2.7.6"
  }
 },
 "nbformat": 4,
 "nbformat_minor": 0
}
