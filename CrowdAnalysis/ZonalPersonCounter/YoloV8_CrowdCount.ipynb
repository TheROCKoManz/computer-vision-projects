{
 "cells": [
  {
   "cell_type": "code",
   "execution_count": 1,
   "outputs": [
    {
     "name": "stdout",
     "output_type": "stream",
     "text": [
      "Fri Jul 28 12:36:18 2023       \r\n",
      "+---------------------------------------------------------------------------------------+\r\n",
      "| NVIDIA-SMI 535.54.03              Driver Version: 535.54.03    CUDA Version: 12.2     |\r\n",
      "|-----------------------------------------+----------------------+----------------------+\r\n",
      "| GPU  Name                 Persistence-M | Bus-Id        Disp.A | Volatile Uncorr. ECC |\r\n",
      "| Fan  Temp   Perf          Pwr:Usage/Cap |         Memory-Usage | GPU-Util  Compute M. |\r\n",
      "|                                         |                      |               MIG M. |\r\n",
      "|=========================================+======================+======================|\r\n",
      "|   0  NVIDIA GeForce GTX 1650        Off | 00000000:01:00.0 Off |                  N/A |\r\n",
      "| N/A   63C    P0               5W /  50W |      5MiB /  4096MiB |      0%      Default |\r\n",
      "|                                         |                      |                  N/A |\r\n",
      "+-----------------------------------------+----------------------+----------------------+\r\n",
      "                                                                                         \r\n",
      "+---------------------------------------------------------------------------------------+\r\n",
      "| Processes:                                                                            |\r\n",
      "|  GPU   GI   CI        PID   Type   Process name                            GPU Memory |\r\n",
      "|        ID   ID                                                             Usage      |\r\n",
      "|=======================================================================================|\r\n",
      "|    0   N/A  N/A       969      G   /usr/lib/xorg/Xorg                            4MiB |\r\n",
      "+---------------------------------------------------------------------------------------+\r\n"
     ]
    }
   ],
   "source": [
    "!nvidia-smi\n"
   ],
   "metadata": {
    "collapsed": false,
    "ExecuteTime": {
     "end_time": "2023-07-28T07:06:18.899811555Z",
     "start_time": "2023-07-28T07:06:17.131131405Z"
    }
   }
  },
  {
   "cell_type": "code",
   "execution_count": 2,
   "metadata": {
    "collapsed": true
   },
   "outputs": [],
   "source": [
    "###yolov5 install\n",
    "import os\n",
    "HOME = os.getcwd()\n",
    "%cd {HOME}\n",
    "!git clone https://github.com/ultralytics/yolov5\n",
    "%cd {HOME}/yolov5\n",
    "!pip install -r requirements.txt\n",
    "from IPython import display\n",
    "display.clear_output()"
   ]
  },
  {
   "cell_type": "code",
   "execution_count": 3,
   "outputs": [
    {
     "name": "stderr",
     "output_type": "stream",
     "text": [
      "Ultralytics YOLOv8.0.143 🚀 Python-3.10.12 torch-2.0.1+cu117 CUDA:0 (NVIDIA GeForce GTX 1650, 3904MiB)\n",
      "Setup complete ✅ (8 CPUs, 15.5 GB RAM, 31.7/72.3 GB disk)\n"
     ]
    }
   ],
   "source": [
    "##YOLOv8 install\n",
    "!pip install ultralytics\n",
    "from IPython import display\n",
    "display.clear_output()\n",
    "import ultralytics\n",
    "ultralytics.checks()"
   ],
   "metadata": {
    "collapsed": false
   }
  },
  {
   "cell_type": "code",
   "execution_count": 20,
   "outputs": [],
   "source": [
    "from ultralytics import YOLO\n",
    "import numpy as np\n",
    "model = YOLO('yolov8s.pt')"
   ],
   "metadata": {
    "collapsed": false,
    "ExecuteTime": {
     "end_time": "2023-07-31T18:38:20.478237837Z",
     "start_time": "2023-07-31T18:38:20.441693998Z"
    }
   }
  },
  {
   "cell_type": "code",
   "execution_count": 5,
   "outputs": [
    {
     "name": "stdout",
     "output_type": "stream",
     "text": [
      "Package                   Version\r\n",
      "------------------------- --------------------\r\n",
      "anyio                     3.7.1\r\n",
      "argon2-cffi               21.3.0\r\n",
      "argon2-cffi-bindings      21.2.0\r\n",
      "arrow                     1.2.3\r\n",
      "asttokens                 2.2.1\r\n",
      "async-lru                 2.0.4\r\n",
      "attrs                     23.1.0\r\n",
      "Babel                     2.12.1\r\n",
      "backcall                  0.2.0\r\n",
      "beautifulsoup4            4.12.2\r\n",
      "bleach                    6.0.0\r\n",
      "boltons                   23.0.0\r\n",
      "brotlipy                  0.7.0\r\n",
      "certifi                   2023.7.22\r\n",
      "cffi                      1.15.1\r\n",
      "charset-normalizer        2.0.4\r\n",
      "cmake                     3.27.0\r\n",
      "comm                      0.1.3\r\n",
      "conda                     23.7.2\r\n",
      "conda-content-trust       0.1.3\r\n",
      "conda-libmamba-solver     23.5.0\r\n",
      "conda-package-handling    2.1.0\r\n",
      "conda_package_streaming   0.8.0\r\n",
      "contourpy                 1.1.0\r\n",
      "cryptography              39.0.1\r\n",
      "cycler                    0.11.0\r\n",
      "debugpy                   1.6.7\r\n",
      "decorator                 5.1.1\r\n",
      "defusedxml                0.7.1\r\n",
      "exceptiongroup            1.1.2\r\n",
      "executing                 1.2.0\r\n",
      "fastjsonschema            2.18.0\r\n",
      "filelock                  3.12.2\r\n",
      "fonttools                 4.41.1\r\n",
      "fqdn                      1.5.1\r\n",
      "gitdb                     4.0.10\r\n",
      "GitPython                 3.1.32\r\n",
      "idna                      3.4\r\n",
      "ipykernel                 6.25.0\r\n",
      "ipython                   8.14.0\r\n",
      "ipython-genutils          0.2.0\r\n",
      "ipywidgets                8.0.7\r\n",
      "isoduration               20.11.0\r\n",
      "jedi                      0.18.2\r\n",
      "Jinja2                    3.1.2\r\n",
      "json5                     0.9.14\r\n",
      "jsonpatch                 1.32\r\n",
      "jsonpointer               2.1\r\n",
      "jsonschema                4.18.4\r\n",
      "jsonschema-specifications 2023.7.1\r\n",
      "jupyter                   1.0.0\r\n",
      "jupyter_client            8.3.0\r\n",
      "jupyter-console           6.6.3\r\n",
      "jupyter_core              5.3.1\r\n",
      "jupyter-events            0.6.3\r\n",
      "jupyter-lsp               2.2.0\r\n",
      "jupyter_server            2.7.0\r\n",
      "jupyter_server_terminals  0.4.4\r\n",
      "jupyterlab                4.0.3\r\n",
      "jupyterlab-pygments       0.2.2\r\n",
      "jupyterlab_server         2.24.0\r\n",
      "jupyterlab-widgets        3.0.8\r\n",
      "kiwisolver                1.4.4\r\n",
      "libmambapy                1.4.1\r\n",
      "lit                       16.0.6\r\n",
      "MarkupSafe                2.1.3\r\n",
      "matplotlib                3.7.2\r\n",
      "matplotlib-inline         0.1.6\r\n",
      "mistune                   3.0.1\r\n",
      "mpmath                    1.3.0\r\n",
      "nbclient                  0.8.0\r\n",
      "nbconvert                 7.7.3\r\n",
      "nbformat                  5.9.1\r\n",
      "nest-asyncio              1.5.6\r\n",
      "networkx                  3.1\r\n",
      "notebook                  7.0.0\r\n",
      "notebook_shim             0.2.3\r\n",
      "numpy                     1.25.1\r\n",
      "nvidia-cublas-cu11        11.10.3.66\r\n",
      "nvidia-cuda-cupti-cu11    11.7.101\r\n",
      "nvidia-cuda-nvrtc-cu11    11.7.99\r\n",
      "nvidia-cuda-runtime-cu11  11.7.99\r\n",
      "nvidia-cudnn-cu11         8.5.0.96\r\n",
      "nvidia-cufft-cu11         10.9.0.58\r\n",
      "nvidia-curand-cu11        10.2.10.91\r\n",
      "nvidia-cusolver-cu11      11.4.0.1\r\n",
      "nvidia-cusparse-cu11      11.7.4.91\r\n",
      "nvidia-nccl-cu11          2.14.3\r\n",
      "nvidia-nvtx-cu11          11.7.91\r\n",
      "opencv-python             4.8.0.74\r\n",
      "overrides                 7.3.1\r\n",
      "packaging                 23.0\r\n",
      "pandas                    2.0.3\r\n",
      "pandocfilters             1.5.0\r\n",
      "parso                     0.8.3\r\n",
      "pexpect                   4.8.0\r\n",
      "pickleshare               0.7.5\r\n",
      "Pillow                    10.0.0\r\n",
      "pip                       23.1.2\r\n",
      "platformdirs              3.9.1\r\n",
      "pluggy                    1.0.0\r\n",
      "prometheus-client         0.17.1\r\n",
      "prompt-toolkit            3.0.39\r\n",
      "psutil                    5.9.5\r\n",
      "ptyprocess                0.7.0\r\n",
      "pure-eval                 0.2.2\r\n",
      "py-cpuinfo                9.0.0\r\n",
      "pycosat                   0.6.4\r\n",
      "pycparser                 2.21\r\n",
      "Pygments                  2.15.1\r\n",
      "pyOpenSSL                 23.2.0\r\n",
      "pyparsing                 3.0.9\r\n",
      "PySocks                   1.7.1\r\n",
      "python-dateutil           2.8.2\r\n",
      "python-json-logger        2.0.7\r\n",
      "pytz                      2023.3\r\n",
      "PyYAML                    6.0.1\r\n",
      "pyzmq                     25.1.0\r\n",
      "qtconsole                 5.4.3\r\n",
      "QtPy                      2.3.1\r\n",
      "referencing               0.30.0\r\n",
      "requests                  2.31.0\r\n",
      "rfc3339-validator         0.1.4\r\n",
      "rfc3986-validator         0.1.1\r\n",
      "rpds-py                   0.9.2\r\n",
      "ruamel.yaml               0.17.21\r\n",
      "ruamel.yaml.clib          0.2.6\r\n",
      "scipy                     1.11.1\r\n",
      "seaborn                   0.12.2\r\n",
      "Send2Trash                1.8.2\r\n",
      "setuptools                67.8.0\r\n",
      "six                       1.16.0\r\n",
      "smmap                     5.0.0\r\n",
      "sniffio                   1.3.0\r\n",
      "soupsieve                 2.4.1\r\n",
      "stack-data                0.6.2\r\n",
      "supervision               0.2.1\r\n",
      "sympy                     1.12\r\n",
      "terminado                 0.17.1\r\n",
      "thop                      0.1.1.post2209072238\r\n",
      "tinycss2                  1.2.1\r\n",
      "tomli                     2.0.1\r\n",
      "toolz                     0.12.0\r\n",
      "torch                     2.0.1\r\n",
      "torchvision               0.15.2\r\n",
      "tornado                   6.3.2\r\n",
      "tqdm                      4.65.0\r\n",
      "traitlets                 5.9.0\r\n",
      "triton                    2.0.0\r\n",
      "typing_extensions         4.7.1\r\n",
      "tzdata                    2023.3\r\n",
      "ultralytics               8.0.143\r\n",
      "uri-template              1.3.0\r\n",
      "urllib3                   1.26.16\r\n",
      "wcwidth                   0.2.6\r\n",
      "webcolors                 1.13\r\n",
      "webencodings              0.5.1\r\n",
      "websocket-client          1.6.1\r\n",
      "wheel                     0.38.4\r\n",
      "widgetsnbextension        4.0.8\r\n",
      "zstandard                 0.19.0\r\n"
     ]
    }
   ],
   "source": [
    "!pip list\n"
   ],
   "metadata": {
    "collapsed": false,
    "ExecuteTime": {
     "end_time": "2023-07-28T07:32:03.885236972Z",
     "start_time": "2023-07-28T07:32:03.208039765Z"
    }
   }
  },
  {
   "cell_type": "code",
   "execution_count": 2,
   "outputs": [
    {
     "data": {
      "text/plain": "VideoInfo(width=852, height=480, fps=30, total_frames=1200)"
     },
     "execution_count": 2,
     "metadata": {},
     "output_type": "execute_result"
    }
   ],
   "source": [
    "## Video_Info\n",
    "import supervision as sv\n",
    "vid = '/home/manz/Desktop/My Stuffs/Work Stuffs/Python Envs/HyperSpace/ComputerVision/Data/Crowd_Count/Sample_Videos/CCTV_Ireland_Sample_480.mp4'\n",
    "sv.VideoInfo.from_video_path(vid)"
   ],
   "metadata": {
    "collapsed": false,
    "ExecuteTime": {
     "end_time": "2023-08-01T13:49:10.643161153Z",
     "start_time": "2023-08-01T13:49:10.568070145Z"
    }
   }
  },
  {
   "cell_type": "code",
   "execution_count": 7,
   "outputs": [
    {
     "data": {
      "text/plain": "True"
     },
     "execution_count": 7,
     "metadata": {},
     "output_type": "execute_result"
    }
   ],
   "source": [
    "# Extract First Frame to draw polygon zone manually\n",
    "import cv2\n",
    "\n",
    "generator = sv.get_video_frames_generator(vid)\n",
    "iterator = iter(generator)\n",
    "frame = next(iterator)\n",
    "\n",
    "cv2.imwrite(\"frame.jpg\", frame)"
   ],
   "metadata": {
    "collapsed": false,
    "ExecuteTime": {
     "end_time": "2023-07-31T14:55:46.951476116Z",
     "start_time": "2023-07-31T14:55:46.921405833Z"
    }
   }
  },
  {
   "cell_type": "code",
   "execution_count": 3,
   "outputs": [],
   "source": [
    "import numpy as np\n",
    "# initiate polygon zone\n",
    "## Use this website to mark pixels ---> https://pixspy.com\n",
    "import torch\n",
    "import cv2\n",
    "\n",
    "model = torch.hub.load('ultralytics/yolov5', 'yolov5x6')\n",
    "\n",
    "\n",
    "\n",
    "colors = sv.ColorPalette.default()\n",
    "polygons = [\n",
    "    np.array([[246,276],\n",
    "              [248,296],\n",
    "              [427,294],\n",
    "              [391,272],\n",
    "              [310,269] \n",
    "    ], np.int32),\n",
    "    np.array([[144,208],\n",
    "              [209,285],\n",
    "              [0,326],\n",
    "              [0,205]\n",
    "    ], np.int32),\n",
    "    np.array([[236,300],\n",
    "              [148,323],\n",
    "              [166,392],\n",
    "              [358,389],\n",
    "              [370,361],\n",
    "              [284,306]   \n",
    "    ], np.int32),\n",
    "    np.array([[371,364],\n",
    "              [407,345],\n",
    "              [477,340],\n",
    "              [486,385],\n",
    "              [432,417],\n",
    "              [368,385],\n",
    "              [366,366]\n",
    "    ], np.int32),\n",
    "    np.array([[464,287],\n",
    "              [551,281],\n",
    "              [576,327],\n",
    "              [485,340],\n",
    "              [462,293]\n",
    "    ], np.int32),\n",
    "    np.array([[576,356],\n",
    "              [523,398],\n",
    "              [709,479],\n",
    "              [762,478],\n",
    "              [773,441],\n",
    "              [680,404],\n",
    "              [601,368]\n",
    "    ], np.int32)\n",
    "]\n",
    "video_info = sv.VideoInfo.from_video_path(vid)\n",
    "\n",
    "zones = [\n",
    "    sv.PolygonZone(\n",
    "        polygon=polygon, \n",
    "        frame_resolution_wh=video_info.resolution_wh\n",
    "    )\n",
    "    for polygon\n",
    "    in polygons\n",
    "]\n",
    "\n",
    "zone_annotators = [\n",
    "    sv.PolygonZoneAnnotator(\n",
    "        zone=zone, \n",
    "        color=colors.by_idx(index), \n",
    "        thickness=2,\n",
    "        text_thickness=1,\n",
    "        text_scale=0.4,\n",
    "        text_padding=1\n",
    "    )\n",
    "    for index, zone\n",
    "    in enumerate(zones)\n",
    "]\n",
    "\n",
    "box_annotators = [\n",
    "    sv.BoxAnnotator(\n",
    "        color=colors.by_idx(index), \n",
    "        thickness=1, \n",
    "        text_thickness=1, \n",
    "        text_scale=0.35,\n",
    "        text_padding=1\n",
    "        )\n",
    "    for index\n",
    "    in range(len(polygons))\n",
    "]\n",
    "\n",
    "\n",
    "def process_frame(frame: np.ndarray, i) -> np.ndarray:\n",
    "    # detect\n",
    "    print(i)\n",
    "    results = model(frame, size=1280)\n",
    "    detections = sv.Detections.from_yolov5(results)\n",
    "    detections = detections[(detections.class_id == 0) & (detections.confidence > 0.5)]\n",
    "\n",
    "    for zone, zone_annotator, box_annotator in zip(zones, zone_annotators, box_annotators):\n",
    "        mask = zone.trigger(detections=detections)\n",
    "        detections_filtered = detections[mask]\n",
    "        # labels = [f\"{model.names[class_id]} {confidence:0.2f}\" for _, confidence, class_id, _ in detections]\n",
    "        frame = box_annotator.annotate(scene=frame, detections=detections_filtered, skip_label=True)\n",
    "        frame = zone_annotator.annotate(scene=frame)\n",
    "\n",
    "    sv.show_frame_in_notebook(frame,(16, 16))\n",
    "    return frame\n",
    "\n",
    "\n",
    "# generator = sv.get_video_frames_generator(vid)\n",
    "# iterator = iter(generator)\n",
    "# frame = next(iterator)\n",
    "# \n",
    "# results = model(frame, imgsz=1280)\n",
    "# detections = sv.Detections.from_yolov8(results)\n",
    "# detections = detections[(detections.class_id == 0) & (detections.confidence > 0.5)]\n",
    "# \n",
    "# for zone, zone_annotator, box_annotator in zip(zones, zone_annotators, box_annotators):\n",
    "#     mask = zone.trigger(detections=detections)\n",
    "#     detections_filtered = detections[mask]\n",
    "#     frame = box_annotator.annotate(scene=frame, detections=detections_filtered, skip_label=True)\n",
    "#     frame = zone_annotator.annotate(scene=frame)\n",
    "# \n",
    "# sv.show_frame_in_notebook(frame,(16,16))\n",
    "\n",
    "\n",
    "sv.process_video(source_path=vid, target_path=f\"Output2.mp4\", callback=process_frame)\n",
    "\n",
    "\n",
    "\n",
    "from IPython import display\n",
    "display.clear_output()"
   ],
   "metadata": {
    "collapsed": false
   }
  },
  {
   "cell_type": "code",
   "execution_count": 15,
   "outputs": [
    {
     "name": "stderr",
     "output_type": "stream",
     "text": [
      "\n",
      "0: 736x1280 36 persons, 2 bicycles, 1 truck, 1 stop sign, 5 backpacks, 1 handbag, 1 skateboard, 1 chair, 6 potted plants, 78.0ms\n",
      "Speed: 6.9ms preprocess, 78.0ms inference, 3.3ms postprocess per image at shape (1, 3, 736, 1280)\n",
      "/home/manz/miniconda3/lib/python3.10/site-packages/supervision/detection/core.py:175: FutureWarning: In the future `np.bool` will be defined as the corresponding NumPy scalar.\n",
      "  if isinstance(index, np.ndarray) and index.dtype == np.bool:\n"
     ]
    },
    {
     "ename": "AttributeError",
     "evalue": "module 'numpy' has no attribute 'bool'.\n`np.bool` was a deprecated alias for the builtin `bool`. To avoid this error in existing code, use `bool` by itself. Doing this will not modify any behavior and is safe. If you specifically wanted the numpy scalar type, use `np.bool_` here.\nThe aliases was originally deprecated in NumPy 1.20; for more details and guidance see the original release note at:\n    https://numpy.org/devdocs/release/1.20.0-notes.html#deprecations",
     "output_type": "error",
     "traceback": [
      "\u001B[0;31m---------------------------------------------------------------------------\u001B[0m",
      "\u001B[0;31mAttributeError\u001B[0m                            Traceback (most recent call last)",
      "Cell \u001B[0;32mIn[15], line 9\u001B[0m\n\u001B[1;32m      6\u001B[0m \u001B[38;5;28;01mif\u001B[39;00m \u001B[38;5;129;01mnot\u001B[39;00m ret \u001B[38;5;129;01mor\u001B[39;00m frame \u001B[38;5;129;01mis\u001B[39;00m \u001B[38;5;28;01mNone\u001B[39;00m:\n\u001B[1;32m      7\u001B[0m     \u001B[38;5;28;01mbreak\u001B[39;00m\n\u001B[0;32m----> 9\u001B[0m frame \u001B[38;5;241m=\u001B[39m \u001B[43mprocess_frame\u001B[49m\u001B[43m(\u001B[49m\u001B[43mframe\u001B[49m\u001B[43m \u001B[49m\u001B[38;5;241;43m=\u001B[39;49m\u001B[43m \u001B[49m\u001B[43mframe\u001B[49m\u001B[43m)\u001B[49m\n\u001B[1;32m     11\u001B[0m cv2\u001B[38;5;241m.\u001B[39mimshow(\u001B[38;5;124m'\u001B[39m\u001B[38;5;124mWebcam\u001B[39m\u001B[38;5;124m'\u001B[39m, frame)\n\u001B[1;32m     12\u001B[0m \u001B[38;5;66;03m# result.write(frame)\u001B[39;00m\n\u001B[1;32m     13\u001B[0m \u001B[38;5;66;03m# if detection.__len__() == 15:\u001B[39;00m\n\u001B[1;32m     14\u001B[0m \u001B[38;5;66;03m#     break\u001B[39;00m\n",
      "Cell \u001B[0;32mIn[14], line 28\u001B[0m, in \u001B[0;36mprocess_frame\u001B[0;34m(frame)\u001B[0m\n\u001B[1;32m     26\u001B[0m results \u001B[38;5;241m=\u001B[39m model(frame, imgsz\u001B[38;5;241m=\u001B[39m\u001B[38;5;241m1280\u001B[39m)[\u001B[38;5;241m0\u001B[39m]\n\u001B[1;32m     27\u001B[0m detections \u001B[38;5;241m=\u001B[39m sv\u001B[38;5;241m.\u001B[39mDetections\u001B[38;5;241m.\u001B[39mfrom_yolov8(results)\n\u001B[0;32m---> 28\u001B[0m detections \u001B[38;5;241m=\u001B[39m \u001B[43mdetections\u001B[49m\u001B[43m[\u001B[49m\u001B[43mdetections\u001B[49m\u001B[38;5;241;43m.\u001B[39;49m\u001B[43mclass_id\u001B[49m\u001B[43m \u001B[49m\u001B[38;5;241;43m==\u001B[39;49m\u001B[43m \u001B[49m\u001B[38;5;241;43m0\u001B[39;49m\u001B[43m]\u001B[49m\n\u001B[1;32m     29\u001B[0m zone\u001B[38;5;241m.\u001B[39mtrigger(detections\u001B[38;5;241m=\u001B[39mdetections)\n\u001B[1;32m     31\u001B[0m \u001B[38;5;66;03m# annotate\u001B[39;00m\n",
      "File \u001B[0;32m~/miniconda3/lib/python3.10/site-packages/supervision/detection/core.py:175\u001B[0m, in \u001B[0;36mDetections.__getitem__\u001B[0;34m(self, index)\u001B[0m\n\u001B[1;32m    174\u001B[0m \u001B[38;5;28;01mdef\u001B[39;00m \u001B[38;5;21m__getitem__\u001B[39m(\u001B[38;5;28mself\u001B[39m, index: np\u001B[38;5;241m.\u001B[39mndarray) \u001B[38;5;241m-\u001B[39m\u001B[38;5;241m>\u001B[39m Detections:\n\u001B[0;32m--> 175\u001B[0m     \u001B[38;5;28;01mif\u001B[39;00m \u001B[38;5;28misinstance\u001B[39m(index, np\u001B[38;5;241m.\u001B[39mndarray) \u001B[38;5;129;01mand\u001B[39;00m index\u001B[38;5;241m.\u001B[39mdtype \u001B[38;5;241m==\u001B[39m \u001B[43mnp\u001B[49m\u001B[38;5;241;43m.\u001B[39;49m\u001B[43mbool\u001B[49m:\n\u001B[1;32m    176\u001B[0m         \u001B[38;5;28;01mreturn\u001B[39;00m Detections(\n\u001B[1;32m    177\u001B[0m             xyxy\u001B[38;5;241m=\u001B[39m\u001B[38;5;28mself\u001B[39m\u001B[38;5;241m.\u001B[39mxyxy[index],\n\u001B[1;32m    178\u001B[0m             confidence\u001B[38;5;241m=\u001B[39m\u001B[38;5;28mself\u001B[39m\u001B[38;5;241m.\u001B[39mconfidence[index],\n\u001B[0;32m   (...)\u001B[0m\n\u001B[1;32m    182\u001B[0m             \u001B[38;5;28;01melse\u001B[39;00m \u001B[38;5;28;01mNone\u001B[39;00m,\n\u001B[1;32m    183\u001B[0m         )\n\u001B[1;32m    184\u001B[0m     \u001B[38;5;28;01mraise\u001B[39;00m \u001B[38;5;167;01mTypeError\u001B[39;00m(\n\u001B[1;32m    185\u001B[0m         \u001B[38;5;124mf\u001B[39m\u001B[38;5;124m\"\u001B[39m\u001B[38;5;124mDetections.__getitem__ not supported for index of type \u001B[39m\u001B[38;5;132;01m{\u001B[39;00m\u001B[38;5;28mtype\u001B[39m(index)\u001B[38;5;132;01m}\u001B[39;00m\u001B[38;5;124m.\u001B[39m\u001B[38;5;124m\"\u001B[39m\n\u001B[1;32m    186\u001B[0m     )\n",
      "File \u001B[0;32m~/miniconda3/lib/python3.10/site-packages/numpy/__init__.py:313\u001B[0m, in \u001B[0;36m__getattr__\u001B[0;34m(attr)\u001B[0m\n\u001B[1;32m    308\u001B[0m     warnings\u001B[38;5;241m.\u001B[39mwarn(\n\u001B[1;32m    309\u001B[0m         \u001B[38;5;124mf\u001B[39m\u001B[38;5;124m\"\u001B[39m\u001B[38;5;124mIn the future `np.\u001B[39m\u001B[38;5;132;01m{\u001B[39;00mattr\u001B[38;5;132;01m}\u001B[39;00m\u001B[38;5;124m` will be defined as the \u001B[39m\u001B[38;5;124m\"\u001B[39m\n\u001B[1;32m    310\u001B[0m         \u001B[38;5;124m\"\u001B[39m\u001B[38;5;124mcorresponding NumPy scalar.\u001B[39m\u001B[38;5;124m\"\u001B[39m, \u001B[38;5;167;01mFutureWarning\u001B[39;00m, stacklevel\u001B[38;5;241m=\u001B[39m\u001B[38;5;241m2\u001B[39m)\n\u001B[1;32m    312\u001B[0m \u001B[38;5;28;01mif\u001B[39;00m attr \u001B[38;5;129;01min\u001B[39;00m __former_attrs__:\n\u001B[0;32m--> 313\u001B[0m     \u001B[38;5;28;01mraise\u001B[39;00m \u001B[38;5;167;01mAttributeError\u001B[39;00m(__former_attrs__[attr])\n\u001B[1;32m    315\u001B[0m \u001B[38;5;28;01mif\u001B[39;00m attr \u001B[38;5;241m==\u001B[39m \u001B[38;5;124m'\u001B[39m\u001B[38;5;124mtesting\u001B[39m\u001B[38;5;124m'\u001B[39m:\n\u001B[1;32m    316\u001B[0m     \u001B[38;5;28;01mimport\u001B[39;00m \u001B[38;5;21;01mnumpy\u001B[39;00m\u001B[38;5;21;01m.\u001B[39;00m\u001B[38;5;21;01mtesting\u001B[39;00m \u001B[38;5;28;01mas\u001B[39;00m \u001B[38;5;21;01mtesting\u001B[39;00m\n",
      "\u001B[0;31mAttributeError\u001B[0m: module 'numpy' has no attribute 'bool'.\n`np.bool` was a deprecated alias for the builtin `bool`. To avoid this error in existing code, use `bool` by itself. Doing this will not modify any behavior and is safe. If you specifically wanted the numpy scalar type, use `np.bool_` here.\nThe aliases was originally deprecated in NumPy 1.20; for more details and guidance see the original release note at:\n    https://numpy.org/devdocs/release/1.20.0-notes.html#deprecations"
     ]
    }
   ],
   "source": [
    "cap = cv2.VideoCapture(vid)\n",
    "frame_width = int(cap.get(3))\n",
    "frame_height = int(cap.get(4))\n",
    "while True:\n",
    "    ret, frame = cap.read()\n",
    "    if not ret or frame is None:\n",
    "        break\n",
    "        \n",
    "    frame = process_frame(frame = frame)\n",
    "\n",
    "    cv2.imshow('Output', frame)\n",
    "    # result.write(frame)\n",
    "    # if detection.__len__() == 15:\n",
    "    #     break\n",
    "    if cv2.waitKey(1) & 0xFF == ord('q'):\n",
    "        break\n",
    "cap.release()\n",
    "cv2.destroyAllWindows()"
   ],
   "metadata": {
    "collapsed": false,
    "ExecuteTime": {
     "end_time": "2023-07-28T07:27:22.189769810Z",
     "start_time": "2023-07-28T07:27:19.636229994Z"
    }
   }
  },
  {
   "cell_type": "code",
   "execution_count": 1,
   "outputs": [
    {
     "data": {
      "text/plain": "(2160, 3840)"
     },
     "execution_count": 1,
     "metadata": {},
     "output_type": "execute_result"
    }
   ],
   "source": [
    "import supervision as sv\n",
    "\n",
    "sv.VideoInfo.from_video_path('/home/manz/Desktop/My Stuffs/Work Stuffs/Python Envs/HyperSpace/ComputerVision/Data/Crowd_Count/Sample_Videos/market-square.mp4').resolution_wh"
   ],
   "metadata": {
    "collapsed": false,
    "ExecuteTime": {
     "end_time": "2023-08-07T18:18:04.388669191Z",
     "start_time": "2023-08-07T18:18:03.712833039Z"
    }
   }
  },
  {
   "cell_type": "code",
   "execution_count": 3,
   "outputs": [
    {
     "data": {
      "text/plain": "(2160, 3840)"
     },
     "execution_count": 3,
     "metadata": {},
     "output_type": "execute_result"
    }
   ],
   "source": [
    "import cv2\n",
    "\n",
    "vid = cv2.VideoCapture('/home/manz/Desktop/My Stuffs/Work Stuffs/Python Envs/HyperSpace/ComputerVision/Data/Crowd_Count/Sample_Videos/market-square.mp4')\n",
    "\n",
    "ret, frame = vid.read()\n",
    "\n",
    "(frame.shape[1], frame.shape[0])"
   ],
   "metadata": {
    "collapsed": false,
    "ExecuteTime": {
     "end_time": "2023-08-07T18:21:03.466086719Z",
     "start_time": "2023-08-07T18:21:03.270445556Z"
    }
   }
  }
 ],
 "metadata": {
  "kernelspec": {
   "display_name": "Python 3",
   "language": "python",
   "name": "python3"
  },
  "language_info": {
   "codemirror_mode": {
    "name": "ipython",
    "version": 2
   },
   "file_extension": ".py",
   "mimetype": "text/x-python",
   "name": "python",
   "nbconvert_exporter": "python",
   "pygments_lexer": "ipython2",
   "version": "2.7.6"
  }
 },
 "nbformat": 4,
 "nbformat_minor": 0
}
